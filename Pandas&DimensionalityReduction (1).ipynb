{
 "cells": [
  {
   "cell_type": "code",
   "execution_count": 1,
   "id": "9cc259d8",
   "metadata": {},
   "outputs": [],
   "source": [
    "import pandas as pd"
   ]
  },
  {
   "cell_type": "markdown",
   "id": "984f836d",
   "metadata": {},
   "source": [
    "#### Загрузить данные в pandas по url=https://raw.githubusercontent.com/justmarkham/DAT8/master/data/chipotle.tsv"
   ]
  },
  {
   "cell_type": "markdown",
   "id": "f99a23c5",
   "metadata": {},
   "source": []
  },
  {
   "cell_type": "markdown",
   "id": "1a64282e",
   "metadata": {},
   "source": [
    "#### 1. Вывести: кол-во наблюдений в датасете\n",
    "#### 2. Вывести названия столбцов\n",
    "#### 3. Определить самую частую позицию (item) в заказе \n",
    "#### 4. Построить гистрограмму частоты заказов по позициям (item )\n",
    "#### 5. Измените тип переменной item_price c с помощью лямбды функции\n",
    "#### 6. Построить гистограмму кол-во денег заработанных по каждой позиции (item)\n",
    "#### 7. Средняя сумма заказа? (минимум 2 способа)\n",
    "#### 8. Выведите среднее, минимальное и максимальное, медианное значения позиций в заказе\n",
    "#### 9. Определить статистику заказов стейков, а также статистику заказов прожарки.\n",
    "#### 10. Добавить новый столбец цен на каждую позицию в заказе в рублях.\n",
    "#### 11. Сгруппировать заказы по входящим позициям в него. Отдельно сгруппировать по стейкам во всех видах прожарках.\n",
    "#### 12. Определить цену по каждой позиции в отдельности. \n"
   ]
  },
  {
   "cell_type": "code",
   "execution_count": null,
   "id": "965cfec3",
   "metadata": {},
   "outputs": [],
   "source": []
  },
  {
   "cell_type": "markdown",
   "id": "cf725ec6",
   "metadata": {},
   "source": [
    "### Алгоритмы уменьшения размерности \n",
    "\n",
    "#### повторить эксперименты в главе 5.1 Qalitative Comparison of Multiple Algorithms статьи статьи UMAP: Uniform Manifold\n",
    "#### Approximation and Projection for Dimension Reduction (https://arxiv.org/pdf/1802.03426.pdf)\n",
    "\n",
    "#### необходимо воспроизвести все графики данной главы, соотнести выводы из статьи с вашими результатами."
   ]
  },
  {
   "cell_type": "code",
   "execution_count": null,
   "id": "0e3ac869",
   "metadata": {},
   "outputs": [],
   "source": []
  }
 ],
 "metadata": {
  "kernelspec": {
   "display_name": "Python 3 (ipykernel)",
   "language": "python",
   "name": "python3"
  },
  "language_info": {
   "codemirror_mode": {
    "name": "ipython",
    "version": 3
   },
   "file_extension": ".py",
   "mimetype": "text/x-python",
   "name": "python",
   "nbconvert_exporter": "python",
   "pygments_lexer": "ipython3",
   "version": "3.8.11"
  }
 },
 "nbformat": 4,
 "nbformat_minor": 5
}
